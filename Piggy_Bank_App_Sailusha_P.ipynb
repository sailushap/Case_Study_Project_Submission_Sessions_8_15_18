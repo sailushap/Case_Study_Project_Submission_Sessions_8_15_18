{
 "cells": [
  {
   "cell_type": "code",
   "execution_count": 37,
   "metadata": {},
   "outputs": [],
   "source": [
    "import piggy as pb"
   ]
  },
  {
   "cell_type": "code",
   "execution_count": 41,
   "metadata": {},
   "outputs": [
    {
     "name": "stdout",
     "output_type": "stream",
     "text": [
      " \n",
      "Start or End : Start\n",
      "Add,Withdraw or Check : Add\n",
      "Enter Amount:1000\n",
      "Your current balance after adding 1000.0 is 1000.0\n",
      " \n",
      "Start or End : Start\n",
      "Add,Withdraw or Check : Add\n",
      "Enter Amount:1200\n",
      "Your current balance after adding 1200.0 is 2200.0\n",
      " \n",
      "Start or End : Start\n",
      "Add,Withdraw or Check : Withdraw\n",
      "Enter Amount:125\n",
      "Your current balance after withdrawing 125.0 is 2075.0\n",
      " \n",
      "Start or End : Start\n",
      "Add,Withdraw or Check : Add\n",
      "Enter Amount:1000\n",
      "Your current balance after adding 1000.0 is 3075.0\n",
      " \n",
      "Start or End : Start\n",
      "Add,Withdraw or Check : Add\n",
      "Enter Amount:-100\n",
      "Amount cannot be negative\n",
      " \n",
      "Start or End : Start\n",
      "Add,Withdraw or Check : Withdraw\n",
      "Enter Amount:10000\n",
      "Amount exceeds your current balance\n",
      " \n",
      "Start or End : Start\n",
      "Add,Withdraw or Check : Check\n",
      "Your current balance is: 3075.0\n",
      " \n",
      "Start or End : Start\n",
      "Add,Withdraw or Check : Add\n",
      "Enter Amount:25\n",
      "Your current balance after adding 25.0 is 3100.0\n",
      " \n",
      "Start or End : Start\n",
      "Add,Withdraw or Check : Check\n",
      "Your current balance is: 3100.0\n",
      " \n",
      "Start or End : End\n",
      " \n",
      "------------Thank you for using Piggy Bank-----------\n",
      " \n"
     ]
    }
   ],
   "source": [
    " p = pb.piggy_bank()\n",
    "while True:\n",
    "    print(\" \")\n",
    "    user = input(\"Start or End : \")\n",
    "    if user.strip() == \"Start\":\n",
    "        controlPiggy = input(\"Add,Withdraw or Check : \")\n",
    "        if controlPiggy.strip() == \"Add\":\n",
    "            amount = float(input(\"Enter Amount:\"))\n",
    "            p.add_Money(amount)\n",
    "            \n",
    "            continue\n",
    "        elif controlPiggy.strip() == \"Withdraw\":\n",
    "            amount = float(input(\"Enter Amount:\"))\n",
    "            p.withdraw_Money(amount)\n",
    "            continue\n",
    "        elif controlPiggy.strip() == \"Check\":\n",
    "            p.get_balance()\n",
    "            continue\n",
    "        else :\n",
    "            print(\" \")\n",
    "            print(\"Invalid Input.Try again\")\n",
    "            continue\n",
    "\n",
    "    elif user.strip() == \"End\" :\n",
    "        print(\" \")\n",
    "        print(\"------------Thank you for using Piggy Bank-----------\")\n",
    "        print(\" \")\n",
    "        break\n",
    "\n",
    "    else :\n",
    "        print(\" \")\n",
    "        print(\"Invalid Input. Try again\")\n",
    "        continue"
   ]
  },
  {
   "cell_type": "code",
   "execution_count": null,
   "metadata": {},
   "outputs": [],
   "source": []
  }
 ],
 "metadata": {
  "kernelspec": {
   "display_name": "Python 3",
   "language": "python",
   "name": "python3"
  },
  "language_info": {
   "codemirror_mode": {
    "name": "ipython",
    "version": 3
   },
   "file_extension": ".py",
   "mimetype": "text/x-python",
   "name": "python",
   "nbconvert_exporter": "python",
   "pygments_lexer": "ipython3",
   "version": "3.7.3"
  }
 },
 "nbformat": 4,
 "nbformat_minor": 2
}
