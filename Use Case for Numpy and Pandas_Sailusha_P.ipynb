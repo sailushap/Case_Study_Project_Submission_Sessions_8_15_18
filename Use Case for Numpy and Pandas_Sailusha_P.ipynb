{
 "cells": [
  {
   "cell_type": "markdown",
   "metadata": {},
   "source": [
    "# USE CASES"
   ]
  },
  {
   "cell_type": "markdown",
   "metadata": {},
   "source": [
    "# Expected Output: This assignment consists of 500 marks and has to be submitted in .ipynb/PDF format in the upcoming session for evaluation. "
   ]
  },
  {
   "cell_type": "code",
   "execution_count": 1,
   "metadata": {},
   "outputs": [
    {
     "name": "stdout",
     "output_type": "stream",
     "text": [
      "The entry is a\n",
      "Oops! <class 'ValueError'> occured.\n",
      "Next entry.\n",
      "\n",
      "The entry is 0\n",
      "Oops! <class 'ZeroDivisionError'> occured.\n",
      "Next entry.\n",
      "\n",
      "The entry is 2\n",
      "The reciprocal of 2 is 0.5\n"
     ]
    }
   ],
   "source": [
    "#1) Write a Python program which accepts a list named : randomList = ['a', 0, 2].\n",
    "#Use exception handling using try-catch which gives the output as: \n",
    "# 1) If the List element is a alphabet or string, the output will be The entry is a \n",
    "# Oops! <class 'ValueError'>occured. Next entry. \n",
    "# 2) If the List element is “0”,the output will be The entry is 0  Oops! <class ' ZeroDivisionError’>occured. Next entry. \n",
    "# 3) If the List element is and integer except 0,then output will be The entry is 2 \n",
    "# The reciprocal of 2 is 0.5 // reciprocal of an integer\n",
    "\n",
    "import sys\n",
    "\n",
    "randomList = ['a', 0, 2]\n",
    "for entry in randomList:\n",
    "    try:\n",
    "        print(\"The entry is\", entry)\n",
    "        r = 1/int(entry)\n",
    "        break\n",
    "    except:\n",
    "        print(\"Oops!\",sys.exc_info()[0],\"occured.\")\n",
    "        print(\"Next entry.\")\n",
    "        print()\n",
    "print(\"The reciprocal of\",entry,\"is\",r)"
   ]
  },
  {
   "cell_type": "code",
   "execution_count": 2,
   "metadata": {},
   "outputs": [
    {
     "name": "stdout",
     "output_type": "stream",
     "text": [
      "Enter index:5\n",
      "Array Out of Bound\n"
     ]
    }
   ],
   "source": [
    "# 2) Array out of Bound Exception \n",
    "# Write a Python program to give exception “Array Out of Bound” if the user wants to access the elements\n",
    "# beyond the list size (use try and except) \n",
    "\n",
    "a = [1, 2, 3]\n",
    "i = int(input(\"Enter index:\"))\n",
    "try:  \n",
    "    print(\"Element:\",a[i])   \n",
    "  \n",
    "except IndexError: \n",
    "    print(\"Array Out of Bound\")"
   ]
  },
  {
   "cell_type": "code",
   "execution_count": 3,
   "metadata": {},
   "outputs": [
    {
     "name": "stdout",
     "output_type": "stream",
     "text": [
      "[1, 1, 2, 3, 5, 8, 13, 21, 34, 55, 89, 144, 233, 377, 610, 987]\n"
     ]
    }
   ],
   "source": [
    "#3) Write a python module script that contains fib2() method to calculate the Fibonacci series till 1000 \n",
    "# and save it as fibo.py.\n",
    "\n",
    "import fibo\n",
    "\n",
    "print(fibo.fib2(1000))"
   ]
  },
  {
   "cell_type": "code",
   "execution_count": 4,
   "metadata": {},
   "outputs": [
    {
     "name": "stdout",
     "output_type": "stream",
     "text": [
      "Enter String:malayalam\n",
      "Is Palindrome\n"
     ]
    }
   ],
   "source": [
    "#4) Write a python module script that contains ispalindrome() method to calculate the input string as palindrome string \n",
    "#   or not and save it as palindrome.py\n",
    "\n",
    "from palindrome import *\n",
    "s = input(\"Enter String:\")\n",
    "result = isPalindrome(s) \n",
    "  \n",
    "if result == 1: \n",
    "    print(\"Is Palindrome\") \n",
    "else: \n",
    "    print(\"Not Palindrome\") "
   ]
  },
  {
   "cell_type": "code",
   "execution_count": 5,
   "metadata": {},
   "outputs": [
    {
     "name": "stdout",
     "output_type": "stream",
     "text": [
      "Enter String:Te$t th!s $tr!ng 123\n",
      "Key: 10\n",
      "Encrypted String:  Do$d dr!c $db!xq 123\n",
      "Decrypted String: Te$t th!s $tr!ng 123\n"
     ]
    }
   ],
   "source": [
    "#5) Write a program in Python with one class called Cipher. Within the constructor of this class, ask user for a string \n",
    "#and store it. Use a static variable, key to store a randomly generated integer between 1 and 50 inclusive. \n",
    "#Implement two methods, encrypt and decrypt within this class. Encrypt generates and prints a cipher text using \n",
    "#the user-entered string and the key and ecrypt generates decrypted string from ciphertext. The cipher only encrypts \n",
    "#alpha and numeric (A-Z, a-z, 0-9). All Symbols, such as - , ; %, remain unencrypted. The cipher text can have special \n",
    "#characters. Use generator expression to filter out alpha and numeric characters of the input string and to generate cipher \n",
    "#text. Create an instance of this class, encrypt and decrypt back the user entered string. \n",
    "\n",
    "import random\n",
    "class cipher:\n",
    "    def __init__(self):\n",
    "        self.string = input(\"Enter String:\")\n",
    "        self.key = random.randint(1,51)\n",
    "    def encrypt(self): \n",
    "        self.ciphertext = ''\n",
    "        for i in (chr(((ord(char) - 65 + self.key) % 26) + 65)\n",
    "                             if char.isupper() & char.isalpha() else chr(((ord(char) - 97 + self.key) % 26) + 97) \n",
    "                             if char.islower() & char.isalpha() else chr((ord(char) + self.key - 48) % 10 + 48) \n",
    "                            if char.isdigit() else char for char in self.string):\n",
    "            self.ciphertext += i\n",
    "        print(\"Key:\", self.key)\n",
    "        print(\"Encrypted String: \",self.ciphertext)\n",
    "        \n",
    "    def decrypt(self): \n",
    "        decrypted_string = ''\n",
    "        for i in (chr(((ord(char) - 65 - self.key) % 26) + 65)\n",
    "                             if char.isupper() & char.isalpha() else chr(((ord(char) - 97 - self.key) % 26) + 97) \n",
    "                             if char.islower() & char.isalpha() else chr((ord(char) - self.key - 48) % 10 + 48) \n",
    "                            if char.isdigit() else char for char in self.ciphertext):\n",
    "            decrypted_string += i\n",
    "        print('Decrypted String:',decrypted_string)\n",
    "        \n",
    "\n",
    "obj = cipher()\n",
    "obj.encrypt()\n",
    "obj.decrypt()"
   ]
  },
  {
   "cell_type": "code",
   "execution_count": null,
   "metadata": {},
   "outputs": [],
   "source": [
    "#6) Get Data from the following link: \n",
    "#http://files.grouplens.org/datasets/movielens/ml-20m.zip \n",
    "#We will be using the following files for this exercise: \n",
    "#ratings.csv : userId,movieId,rating, timestamp  \n",
    "#tags.csv : userId,movieId, tag, timestamp  \n",
    "#movies.csv : movieId, title, genres "
   ]
  },
  {
   "cell_type": "code",
   "execution_count": 26,
   "metadata": {},
   "outputs": [],
   "source": [
    "# I. Read the dataset using pandas. \n",
    "\n",
    "import requests, zipfile, io\n",
    "import pandas as pd\n",
    "url = 'http://files.grouplens.org/datasets/movielens/ml-20m.zip'\n",
    "r = requests.get(url)\n",
    "z = zipfile.ZipFile(io.BytesIO(r.content))\n",
    "ratings = pd.read_csv(z.extract('ml-20m/ratings.csv'))\n",
    "tags = pd.read_csv(z.extract('ml-20m/tags.csv'))\n",
    "movies = pd.read_csv(z.extract('ml-20m/movies.csv'))\n"
   ]
  },
  {
   "cell_type": "code",
   "execution_count": 27,
   "metadata": {},
   "outputs": [
    {
     "name": "stdout",
     "output_type": "stream",
     "text": [
      "   userId  movieId  rating   timestamp\n",
      "0       1        2     3.5  1112486027\n",
      "1       1       29     3.5  1112484676\n",
      "   userId  movieId          tag   timestamp\n",
      "0      18     4141  Mark Waters  1240597180\n",
      "1      65      208    dark hero  1368150078\n",
      "   movieId             title                                       genres\n",
      "0        1  Toy Story (1995)  Adventure|Animation|Children|Comedy|Fantasy\n",
      "1        2    Jumanji (1995)                   Adventure|Children|Fantasy\n"
     ]
    }
   ],
   "source": [
    "print(ratings.head(2))\n",
    "print(tags.head(2))\n",
    "print(movies.head(2))"
   ]
  },
  {
   "cell_type": "code",
   "execution_count": 29,
   "metadata": {},
   "outputs": [
    {
     "name": "stdout",
     "output_type": "stream",
     "text": [
      "***** Extracting as DF *****\n",
      "   userId  movieId          tag   timestamp\n",
      "0      18     4141  Mark Waters  1240597180\n",
      "Type: <class 'pandas.core.frame.DataFrame'> \n",
      "\n",
      "***** Extracting as Series *****\n",
      "userId                18\n",
      "movieId             4141\n",
      "tag          Mark Waters\n",
      "timestamp     1240597180\n",
      "Name: 0, dtype: object <class 'pandas.core.series.Series'>\n"
     ]
    }
   ],
   "source": [
    "#II. Extract the first row from tags and print its type. \n",
    "print(5*'*',\"Extracting as DF\",5*'*')\n",
    "df = tags.head(1)\n",
    "print(df)\n",
    "print(\"Type:\", type(df),'\\n') # Extraction as DataFrame\n",
    "\n",
    "print(5*'*',\"Extracting as Series\",5*'*')\n",
    "s = tags.loc[0]\n",
    "print(s,type(s)) #Extraction as Series"
   ]
  },
  {
   "cell_type": "code",
   "execution_count": 32,
   "metadata": {},
   "outputs": [
    {
     "name": "stdout",
     "output_type": "stream",
     "text": [
      "      userId  movieId                tag   timestamp\n",
      "0         18     4141        Mark Waters  1240597180\n",
      "11        65     1783      noir thriller  1368149983\n",
      "2000     910    68554  conspiracy theory  1368043943\n"
     ]
    }
   ],
   "source": [
    "#III.  Extract row 0, 11, 2000 from tags DataFrame. \n",
    "print(tags.loc[[0,11,2000]])"
   ]
  },
  {
   "cell_type": "code",
   "execution_count": 33,
   "metadata": {},
   "outputs": [
    {
     "name": "stdout",
     "output_type": "stream",
     "text": [
      "Count: 20000263\n",
      "Mean: 3.5255285642993797\n",
      "Standard Deviation: 1.051988919275684\n",
      "Min: 0.5\n",
      "0.25    3.0\n",
      "Name: rating, dtype: float64\n",
      "Median 3.5\n",
      "0.75    4.0\n",
      "Name: rating, dtype: float64\n",
      "Min: 5.0\n"
     ]
    }
   ],
   "source": [
    "#V.Calculate descriptive statistics for the 'ratings' column of the ratings DataFrame. Verify using describe().\n",
    "print(\"Count:\",ratings['rating'].count())\n",
    "print(\"Mean:\",ratings['rating'].mean())\n",
    "print(\"Standard Deviation:\", ratings['rating'].std())\n",
    "print(\"Min:\", ratings['rating'].min())\n",
    "print(ratings['rating'].quantile([0.25]))\n",
    "print(\"Median\",ratings['rating'].median())\n",
    "print(ratings['rating'].quantile([0.75]))\n",
    "print(\"Min:\", ratings['rating'].max())"
   ]
  },
  {
   "cell_type": "code",
   "execution_count": 34,
   "metadata": {},
   "outputs": [
    {
     "data": {
      "text/plain": [
       "count    2.000026e+07\n",
       "mean     3.525529e+00\n",
       "std      1.051989e+00\n",
       "min      5.000000e-01\n",
       "25%      3.000000e+00\n",
       "50%      3.500000e+00\n",
       "75%      4.000000e+00\n",
       "max      5.000000e+00\n",
       "Name: rating, dtype: float64"
      ]
     },
     "execution_count": 34,
     "metadata": {},
     "output_type": "execute_result"
    }
   ],
   "source": [
    "ratings['rating'].describe()"
   ]
  },
  {
   "cell_type": "code",
   "execution_count": 36,
   "metadata": {},
   "outputs": [
    {
     "data": {
      "text/html": [
       "<div>\n",
       "<style scoped>\n",
       "    .dataframe tbody tr th:only-of-type {\n",
       "        vertical-align: middle;\n",
       "    }\n",
       "\n",
       "    .dataframe tbody tr th {\n",
       "        vertical-align: top;\n",
       "    }\n",
       "\n",
       "    .dataframe thead th {\n",
       "        text-align: right;\n",
       "    }\n",
       "</style>\n",
       "<table border=\"1\" class=\"dataframe\">\n",
       "  <thead>\n",
       "    <tr style=\"text-align: right;\">\n",
       "      <th></th>\n",
       "      <th>userId</th>\n",
       "      <th>movieId</th>\n",
       "      <th>rating</th>\n",
       "      <th>timestamp</th>\n",
       "    </tr>\n",
       "  </thead>\n",
       "  <tbody>\n",
       "  </tbody>\n",
       "</table>\n",
       "</div>"
      ],
      "text/plain": [
       "Empty DataFrame\n",
       "Columns: [userId, movieId, rating, timestamp]\n",
       "Index: []"
      ]
     },
     "execution_count": 36,
     "metadata": {},
     "output_type": "execute_result"
    }
   ],
   "source": [
    "#VI.   Filter out ratings with rating > 5\n",
    "\n",
    "Filter = ratings[\"rating\"] > 5\n",
    "ratings.where(Filter).dropna()"
   ]
  },
  {
   "cell_type": "code",
   "execution_count": 37,
   "metadata": {},
   "outputs": [
    {
     "name": "stdout",
     "output_type": "stream",
     "text": [
      "Ratings: False\n",
      "Movies: False\n",
      "Tags: True\n",
      "No.of missing values in Tags: 16\n",
      "userId        0\n",
      "movieId       0\n",
      "tag          16\n",
      "timestamp     0\n",
      "dtype: int64\n"
     ]
    }
   ],
   "source": [
    "#VII. Find how many null values, missing values are present. Deal with them. Print out how many rows have been  modified.\n",
    "print(\"Ratings:\" ,ratings.isnull().values.any())\n",
    "print(\"Movies:\", movies.isnull().values.any())\n",
    "print(\"Tags:\" ,tags.isnull().values.any())\n",
    "print(\"No.of missing values in Tags:\", tags.isnull().sum().sum())\n",
    "print(tags.isnull().sum())\n",
    "tags['tag'].fillna('sci-fi',inplace = True)"
   ]
  },
  {
   "cell_type": "code",
   "execution_count": 38,
   "metadata": {},
   "outputs": [
    {
     "data": {
      "text/html": [
       "<div>\n",
       "<style scoped>\n",
       "    .dataframe tbody tr th:only-of-type {\n",
       "        vertical-align: middle;\n",
       "    }\n",
       "\n",
       "    .dataframe tbody tr th {\n",
       "        vertical-align: top;\n",
       "    }\n",
       "\n",
       "    .dataframe thead th {\n",
       "        text-align: right;\n",
       "    }\n",
       "</style>\n",
       "<table border=\"1\" class=\"dataframe\">\n",
       "  <thead>\n",
       "    <tr style=\"text-align: right;\">\n",
       "      <th></th>\n",
       "      <th>movieId</th>\n",
       "      <th>title</th>\n",
       "      <th>genres</th>\n",
       "    </tr>\n",
       "  </thead>\n",
       "  <tbody>\n",
       "    <tr>\n",
       "      <th>0</th>\n",
       "      <td>1</td>\n",
       "      <td>Toy Story (1995)</td>\n",
       "      <td>Adventure|Animation|Children|Comedy|Fantasy</td>\n",
       "    </tr>\n",
       "    <tr>\n",
       "      <th>12</th>\n",
       "      <td>13</td>\n",
       "      <td>Balto (1995)</td>\n",
       "      <td>Adventure|Animation|Children</td>\n",
       "    </tr>\n",
       "    <tr>\n",
       "      <th>47</th>\n",
       "      <td>48</td>\n",
       "      <td>Pocahontas (1995)</td>\n",
       "      <td>Animation|Children|Drama|Musical|Romance</td>\n",
       "    </tr>\n",
       "    <tr>\n",
       "      <th>236</th>\n",
       "      <td>239</td>\n",
       "      <td>Goofy Movie, A (1995)</td>\n",
       "      <td>Animation|Children|Comedy|Romance</td>\n",
       "    </tr>\n",
       "    <tr>\n",
       "      <th>241</th>\n",
       "      <td>244</td>\n",
       "      <td>Gumby: The Movie (1995)</td>\n",
       "      <td>Animation|Children</td>\n",
       "    </tr>\n",
       "  </tbody>\n",
       "</table>\n",
       "</div>"
      ],
      "text/plain": [
       "     movieId                    title  \\\n",
       "0          1         Toy Story (1995)   \n",
       "12        13             Balto (1995)   \n",
       "47        48        Pocahontas (1995)   \n",
       "236      239    Goofy Movie, A (1995)   \n",
       "241      244  Gumby: The Movie (1995)   \n",
       "\n",
       "                                          genres  \n",
       "0    Adventure|Animation|Children|Comedy|Fantasy  \n",
       "12                  Adventure|Animation|Children  \n",
       "47      Animation|Children|Drama|Musical|Romance  \n",
       "236            Animation|Children|Comedy|Romance  \n",
       "241                           Animation|Children  "
      ]
     },
     "execution_count": 38,
     "metadata": {},
     "output_type": "execute_result"
    }
   ],
   "source": [
    "#VIII. Filter out movies from the movies DataFrame that are of type 'Animation'. \n",
    "movies[movies['genres'].str.contains('Animation')].head(5)"
   ]
  },
  {
   "cell_type": "code",
   "execution_count": 40,
   "metadata": {},
   "outputs": [
    {
     "data": {
      "text/plain": [
       "3.5255285642993797"
      ]
     },
     "execution_count": 40,
     "metadata": {},
     "output_type": "execute_result"
    }
   ],
   "source": [
    "#IX. Find the average rating of movies.\n",
    "ratings['rating'].mean()"
   ]
  },
  {
   "cell_type": "code",
   "execution_count": 41,
   "metadata": {},
   "outputs": [
    {
     "data": {
      "text/html": [
       "<div>\n",
       "<style scoped>\n",
       "    .dataframe tbody tr th:only-of-type {\n",
       "        vertical-align: middle;\n",
       "    }\n",
       "\n",
       "    .dataframe tbody tr th {\n",
       "        vertical-align: top;\n",
       "    }\n",
       "\n",
       "    .dataframe thead th {\n",
       "        text-align: right;\n",
       "    }\n",
       "</style>\n",
       "<table border=\"1\" class=\"dataframe\">\n",
       "  <thead>\n",
       "    <tr style=\"text-align: right;\">\n",
       "      <th></th>\n",
       "      <th>movieId</th>\n",
       "      <th>title</th>\n",
       "      <th>genres</th>\n",
       "      <th>userId</th>\n",
       "      <th>tag</th>\n",
       "      <th>timestamp</th>\n",
       "    </tr>\n",
       "  </thead>\n",
       "  <tbody>\n",
       "    <tr>\n",
       "      <th>0</th>\n",
       "      <td>1</td>\n",
       "      <td>Toy Story (1995)</td>\n",
       "      <td>Adventure|Animation|Children|Comedy|Fantasy</td>\n",
       "      <td>1644</td>\n",
       "      <td>Watched</td>\n",
       "      <td>1417736680</td>\n",
       "    </tr>\n",
       "    <tr>\n",
       "      <th>1</th>\n",
       "      <td>1</td>\n",
       "      <td>Toy Story (1995)</td>\n",
       "      <td>Adventure|Animation|Children|Comedy|Fantasy</td>\n",
       "      <td>1741</td>\n",
       "      <td>computer animation</td>\n",
       "      <td>1183903155</td>\n",
       "    </tr>\n",
       "    <tr>\n",
       "      <th>2</th>\n",
       "      <td>1</td>\n",
       "      <td>Toy Story (1995)</td>\n",
       "      <td>Adventure|Animation|Children|Comedy|Fantasy</td>\n",
       "      <td>1741</td>\n",
       "      <td>Disney animated feature</td>\n",
       "      <td>1183933307</td>\n",
       "    </tr>\n",
       "    <tr>\n",
       "      <th>3</th>\n",
       "      <td>1</td>\n",
       "      <td>Toy Story (1995)</td>\n",
       "      <td>Adventure|Animation|Children|Comedy|Fantasy</td>\n",
       "      <td>1741</td>\n",
       "      <td>Pixar animation</td>\n",
       "      <td>1183934770</td>\n",
       "    </tr>\n",
       "    <tr>\n",
       "      <th>4</th>\n",
       "      <td>1</td>\n",
       "      <td>Toy Story (1995)</td>\n",
       "      <td>Adventure|Animation|Children|Comedy|Fantasy</td>\n",
       "      <td>1741</td>\n",
       "      <td>TÃ©a Leoni does not star in this movie</td>\n",
       "      <td>1245093573</td>\n",
       "    </tr>\n",
       "  </tbody>\n",
       "</table>\n",
       "</div>"
      ],
      "text/plain": [
       "   movieId             title                                       genres  \\\n",
       "0        1  Toy Story (1995)  Adventure|Animation|Children|Comedy|Fantasy   \n",
       "1        1  Toy Story (1995)  Adventure|Animation|Children|Comedy|Fantasy   \n",
       "2        1  Toy Story (1995)  Adventure|Animation|Children|Comedy|Fantasy   \n",
       "3        1  Toy Story (1995)  Adventure|Animation|Children|Comedy|Fantasy   \n",
       "4        1  Toy Story (1995)  Adventure|Animation|Children|Comedy|Fantasy   \n",
       "\n",
       "   userId                                     tag   timestamp  \n",
       "0    1644                                 Watched  1417736680  \n",
       "1    1741                      computer animation  1183903155  \n",
       "2    1741                 Disney animated feature  1183933307  \n",
       "3    1741                         Pixar animation  1183934770  \n",
       "4    1741  TÃ©a Leoni does not star in this movie  1245093573  "
      ]
     },
     "execution_count": 41,
     "metadata": {},
     "output_type": "execute_result"
    }
   ],
   "source": [
    "#X. Perform an inner join of movies and tags based on movieId.\n",
    "movies_tags = pd.merge(movies,tags,how='inner',on='movieId')\n",
    "movies_tags.head(5)"
   ]
  },
  {
   "cell_type": "code",
   "execution_count": 42,
   "metadata": {},
   "outputs": [
    {
     "data": {
      "text/html": [
       "<div>\n",
       "<style scoped>\n",
       "    .dataframe tbody tr th:only-of-type {\n",
       "        vertical-align: middle;\n",
       "    }\n",
       "\n",
       "    .dataframe tbody tr th {\n",
       "        vertical-align: top;\n",
       "    }\n",
       "\n",
       "    .dataframe thead th {\n",
       "        text-align: right;\n",
       "    }\n",
       "</style>\n",
       "<table border=\"1\" class=\"dataframe\">\n",
       "  <thead>\n",
       "    <tr style=\"text-align: right;\">\n",
       "      <th></th>\n",
       "      <th>movieId</th>\n",
       "      <th>title</th>\n",
       "      <th>genres</th>\n",
       "      <th>userId</th>\n",
       "      <th>rating</th>\n",
       "      <th>timestamp</th>\n",
       "    </tr>\n",
       "  </thead>\n",
       "  <tbody>\n",
       "    <tr>\n",
       "      <th>1</th>\n",
       "      <td>1</td>\n",
       "      <td>Toy Story (1995)</td>\n",
       "      <td>Adventure|Animation|Children|Comedy|Fantasy</td>\n",
       "      <td>6</td>\n",
       "      <td>5</td>\n",
       "      <td>8.58275e+08</td>\n",
       "    </tr>\n",
       "    <tr>\n",
       "      <th>4</th>\n",
       "      <td>1</td>\n",
       "      <td>Toy Story (1995)</td>\n",
       "      <td>Adventure|Animation|Children|Comedy|Fantasy</td>\n",
       "      <td>11</td>\n",
       "      <td>4.5</td>\n",
       "      <td>1.23086e+09</td>\n",
       "    </tr>\n",
       "    <tr>\n",
       "      <th>7</th>\n",
       "      <td>1</td>\n",
       "      <td>Toy Story (1995)</td>\n",
       "      <td>Adventure|Animation|Children|Comedy|Fantasy</td>\n",
       "      <td>14</td>\n",
       "      <td>4.5</td>\n",
       "      <td>1.22531e+09</td>\n",
       "    </tr>\n",
       "    <tr>\n",
       "      <th>9</th>\n",
       "      <td>1</td>\n",
       "      <td>Toy Story (1995)</td>\n",
       "      <td>Adventure|Animation|Children|Comedy|Fantasy</td>\n",
       "      <td>19</td>\n",
       "      <td>5</td>\n",
       "      <td>8.55177e+08</td>\n",
       "    </tr>\n",
       "    <tr>\n",
       "      <th>14</th>\n",
       "      <td>1</td>\n",
       "      <td>Toy Story (1995)</td>\n",
       "      <td>Adventure|Animation|Children|Comedy|Fantasy</td>\n",
       "      <td>34</td>\n",
       "      <td>5</td>\n",
       "      <td>8.46509e+08</td>\n",
       "    </tr>\n",
       "  </tbody>\n",
       "</table>\n",
       "</div>"
      ],
      "text/plain": [
       "   movieId             title                                       genres  \\\n",
       "1        1  Toy Story (1995)  Adventure|Animation|Children|Comedy|Fantasy   \n",
       "4        1  Toy Story (1995)  Adventure|Animation|Children|Comedy|Fantasy   \n",
       "7        1  Toy Story (1995)  Adventure|Animation|Children|Comedy|Fantasy   \n",
       "9        1  Toy Story (1995)  Adventure|Animation|Children|Comedy|Fantasy   \n",
       "14       1  Toy Story (1995)  Adventure|Animation|Children|Comedy|Fantasy   \n",
       "\n",
       "   userId rating    timestamp  \n",
       "1       6      5  8.58275e+08  \n",
       "4      11    4.5  1.23086e+09  \n",
       "7      14    4.5  1.22531e+09  \n",
       "9      19      5  8.55177e+08  \n",
       "14     34      5  8.46509e+08  "
      ]
     },
     "execution_count": 42,
     "metadata": {},
     "output_type": "execute_result"
    }
   ],
   "source": [
    "#XI. Print out the 5 movies that belong to the Comedy genre and have rating greater than 4. \n",
    "movies_ratings = pd.merge(movies,ratings, how='inner',left_on='movieId',right_on = 'movieId')\n",
    "movies_ratings = movies_ratings.where(movies_ratings.rating > 4)\n",
    "movies_ratings.fillna('unknown',inplace = True)\n",
    "movies_ratings[movies_ratings['genres'].str.contains('Comedy')].head(5)"
   ]
  },
  {
   "cell_type": "code",
   "execution_count": 43,
   "metadata": {},
   "outputs": [
    {
     "data": {
      "text/html": [
       "<div>\n",
       "<style scoped>\n",
       "    .dataframe tbody tr th:only-of-type {\n",
       "        vertical-align: middle;\n",
       "    }\n",
       "\n",
       "    .dataframe tbody tr th {\n",
       "        vertical-align: top;\n",
       "    }\n",
       "\n",
       "    .dataframe thead th {\n",
       "        text-align: right;\n",
       "    }\n",
       "</style>\n",
       "<table border=\"1\" class=\"dataframe\">\n",
       "  <thead>\n",
       "    <tr style=\"text-align: right;\">\n",
       "      <th></th>\n",
       "      <th>movieId</th>\n",
       "      <th>title</th>\n",
       "      <th>genres</th>\n",
       "      <th>Type1</th>\n",
       "      <th>Type2</th>\n",
       "      <th>Type3</th>\n",
       "      <th>Type4</th>\n",
       "      <th>Type5</th>\n",
       "    </tr>\n",
       "  </thead>\n",
       "  <tbody>\n",
       "    <tr>\n",
       "      <th>0</th>\n",
       "      <td>1</td>\n",
       "      <td>Toy Story (1995)</td>\n",
       "      <td>Adventure|Animation|Children|Comedy|Fantasy</td>\n",
       "      <td>Adventure</td>\n",
       "      <td>Animation</td>\n",
       "      <td>Children</td>\n",
       "      <td>Comedy</td>\n",
       "      <td>Fantasy</td>\n",
       "    </tr>\n",
       "    <tr>\n",
       "      <th>1</th>\n",
       "      <td>2</td>\n",
       "      <td>Jumanji (1995)</td>\n",
       "      <td>Adventure|Children|Fantasy</td>\n",
       "      <td>Adventure</td>\n",
       "      <td>Children</td>\n",
       "      <td>Fantasy</td>\n",
       "      <td>None</td>\n",
       "      <td>None</td>\n",
       "    </tr>\n",
       "    <tr>\n",
       "      <th>2</th>\n",
       "      <td>3</td>\n",
       "      <td>Grumpier Old Men (1995)</td>\n",
       "      <td>Comedy|Romance</td>\n",
       "      <td>Comedy</td>\n",
       "      <td>Romance</td>\n",
       "      <td>None</td>\n",
       "      <td>None</td>\n",
       "      <td>None</td>\n",
       "    </tr>\n",
       "    <tr>\n",
       "      <th>3</th>\n",
       "      <td>4</td>\n",
       "      <td>Waiting to Exhale (1995)</td>\n",
       "      <td>Comedy|Drama|Romance</td>\n",
       "      <td>Comedy</td>\n",
       "      <td>Drama</td>\n",
       "      <td>Romance</td>\n",
       "      <td>None</td>\n",
       "      <td>None</td>\n",
       "    </tr>\n",
       "    <tr>\n",
       "      <th>4</th>\n",
       "      <td>5</td>\n",
       "      <td>Father of the Bride Part II (1995)</td>\n",
       "      <td>Comedy</td>\n",
       "      <td>Comedy</td>\n",
       "      <td>None</td>\n",
       "      <td>None</td>\n",
       "      <td>None</td>\n",
       "      <td>None</td>\n",
       "    </tr>\n",
       "  </tbody>\n",
       "</table>\n",
       "</div>"
      ],
      "text/plain": [
       "   movieId                               title  \\\n",
       "0        1                    Toy Story (1995)   \n",
       "1        2                      Jumanji (1995)   \n",
       "2        3             Grumpier Old Men (1995)   \n",
       "3        4            Waiting to Exhale (1995)   \n",
       "4        5  Father of the Bride Part II (1995)   \n",
       "\n",
       "                                        genres      Type1      Type2  \\\n",
       "0  Adventure|Animation|Children|Comedy|Fantasy  Adventure  Animation   \n",
       "1                   Adventure|Children|Fantasy  Adventure   Children   \n",
       "2                               Comedy|Romance     Comedy    Romance   \n",
       "3                         Comedy|Drama|Romance     Comedy      Drama   \n",
       "4                                       Comedy     Comedy       None   \n",
       "\n",
       "      Type3   Type4    Type5  \n",
       "0  Children  Comedy  Fantasy  \n",
       "1   Fantasy    None     None  \n",
       "2      None    None     None  \n",
       "3   Romance    None     None  \n",
       "4      None    None     None  "
      ]
     },
     "execution_count": 43,
     "metadata": {},
     "output_type": "execute_result"
    }
   ],
   "source": [
    "#XII. Split 'genres' into multiple columns. \n",
    "new = movies['genres'].str.split(\"|\",n=5,expand = True)\n",
    "new.dtypes\n",
    "movies[\"Type1\"] = new[0]\n",
    "movies[\"Type2\"] = new[1]\n",
    "movies[\"Type3\"] = new[2]\n",
    "movies[\"Type4\"] = new[3]\n",
    "movies[\"Type5\"] = new[4]\n",
    "movies.head(5)"
   ]
  },
  {
   "cell_type": "code",
   "execution_count": 44,
   "metadata": {},
   "outputs": [
    {
     "data": {
      "text/html": [
       "<div>\n",
       "<style scoped>\n",
       "    .dataframe tbody tr th:only-of-type {\n",
       "        vertical-align: middle;\n",
       "    }\n",
       "\n",
       "    .dataframe tbody tr th {\n",
       "        vertical-align: top;\n",
       "    }\n",
       "\n",
       "    .dataframe thead th {\n",
       "        text-align: right;\n",
       "    }\n",
       "</style>\n",
       "<table border=\"1\" class=\"dataframe\">\n",
       "  <thead>\n",
       "    <tr style=\"text-align: right;\">\n",
       "      <th></th>\n",
       "      <th>0</th>\n",
       "    </tr>\n",
       "  </thead>\n",
       "  <tbody>\n",
       "    <tr>\n",
       "      <th>0</th>\n",
       "      <td>1995</td>\n",
       "    </tr>\n",
       "    <tr>\n",
       "      <th>1</th>\n",
       "      <td>1995</td>\n",
       "    </tr>\n",
       "    <tr>\n",
       "      <th>2</th>\n",
       "      <td>1995</td>\n",
       "    </tr>\n",
       "    <tr>\n",
       "      <th>3</th>\n",
       "      <td>1995</td>\n",
       "    </tr>\n",
       "    <tr>\n",
       "      <th>4</th>\n",
       "      <td>1995</td>\n",
       "    </tr>\n",
       "  </tbody>\n",
       "</table>\n",
       "</div>"
      ],
      "text/plain": [
       "      0\n",
       "0  1995\n",
       "1  1995\n",
       "2  1995\n",
       "3  1995\n",
       "4  1995"
      ]
     },
     "execution_count": 44,
     "metadata": {},
     "output_type": "execute_result"
    }
   ],
   "source": [
    "#XIII. Extract year from title e.g. (1995).\n",
    "movies['title'].str.extract(\"\\((.*)\\)\").head(5)"
   ]
  },
  {
   "cell_type": "code",
   "execution_count": 46,
   "metadata": {},
   "outputs": [
    {
     "data": {
      "text/html": [
       "<div>\n",
       "<style scoped>\n",
       "    .dataframe tbody tr th:only-of-type {\n",
       "        vertical-align: middle;\n",
       "    }\n",
       "\n",
       "    .dataframe tbody tr th {\n",
       "        vertical-align: top;\n",
       "    }\n",
       "\n",
       "    .dataframe thead th {\n",
       "        text-align: right;\n",
       "    }\n",
       "</style>\n",
       "<table border=\"1\" class=\"dataframe\">\n",
       "  <thead>\n",
       "    <tr style=\"text-align: right;\">\n",
       "      <th></th>\n",
       "      <th>userId</th>\n",
       "      <th>movieId</th>\n",
       "      <th>rating</th>\n",
       "      <th>timestamp</th>\n",
       "    </tr>\n",
       "  </thead>\n",
       "  <tbody>\n",
       "  </tbody>\n",
       "</table>\n",
       "</div>"
      ],
      "text/plain": [
       "Empty DataFrame\n",
       "Columns: [userId, movieId, rating, timestamp]\n",
       "Index: []"
      ]
     },
     "execution_count": 46,
     "metadata": {},
     "output_type": "execute_result"
    }
   ],
   "source": [
    "#XIV. Select rows based on timestamps later than 2015-02-01. \n",
    "import datetime\n",
    "date_time_str = '2015-02-01'  \n",
    "date_time_obj = datetime.datetime.strptime(date_time_str, '%Y-%m-%d')\n",
    "\n",
    "Filter = pd.to_datetime(ratings['timestamp']).apply(lambda x: x.date()) > date_time_obj.date()\n",
    "ratings.where(Filter).dropna().head(5)"
   ]
  }
 ],
 "metadata": {
  "kernelspec": {
   "display_name": "Python 3",
   "language": "python",
   "name": "python3"
  },
  "language_info": {
   "codemirror_mode": {
    "name": "ipython",
    "version": 3
   },
   "file_extension": ".py",
   "mimetype": "text/x-python",
   "name": "python",
   "nbconvert_exporter": "python",
   "pygments_lexer": "ipython3",
   "version": "3.7.3"
  }
 },
 "nbformat": 4,
 "nbformat_minor": 2
}
